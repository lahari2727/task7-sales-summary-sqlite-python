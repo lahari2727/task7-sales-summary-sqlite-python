{
  "nbformat": 4,
  "nbformat_minor": 0,
  "metadata": {
    "colab": {
      "provenance": []
    },
    "kernelspec": {
      "name": "python3",
      "display_name": "Python 3"
    },
    "language_info": {
      "name": "python"
    }
  },
  "cells": [
    {
      "cell_type": "code",
      "source": [
        "import pandas as pd\n",
        "import matplotlib.pyplot as plt\n",
        "import sqlite3"
      ],
      "metadata": {
        "id": "QR2qCqnl25Kn"
      },
      "execution_count": 2,
      "outputs": []
    },
    {
      "cell_type": "code",
      "source": [
        "\n",
        "# create and connect to the sqlite database\n",
        "\n",
        "database_db = sqlite3.connect(\"sales_data.db\")\n",
        "cursor = database_db.cursor()"
      ],
      "metadata": {
        "id": "YY6YorBT3J6q"
      },
      "execution_count": 3,
      "outputs": []
    },
    {
      "cell_type": "code",
      "source": [
        "# create the sales table\n",
        "\n",
        "cursor.execute('''\n",
        "    CREATE TABLE IF NOT EXISTS sales(\n",
        "      sale_id INTEGER PRIMARY KEY AUTOINCREMENT,\n",
        "      product TEXT,\n",
        "      brand TEXT,\n",
        "      category TEXT,\n",
        "      quantity INTEGER,\n",
        "      price REAL,\n",
        "      sale_date TEXT\n",
        "\n",
        "    )\n",
        "''')\n",
        "\n",
        "database_db.commit()\n",
        "print(\"New sales table created \")\n"
      ],
      "metadata": {
        "colab": {
          "base_uri": "https://localhost:8080/"
        },
        "id": "lkA6LEto6SYH",
        "outputId": "e88b7cd2-a485-4921-828a-6fb3da4dcf4c"
      },
      "execution_count": 19,
      "outputs": [
        {
          "output_type": "stream",
          "name": "stdout",
          "text": [
            "New sales table created \n"
          ]
        }
      ]
    },
    {
      "cell_type": "code",
      "source": [
        "# Insert the sales data into the sales table\n",
        "database_db = sqlite3.connect(\"sales_data.db\")\n",
        "cursor = database_db.cursor()\n",
        "\n",
        "sales_data = [\n",
        "    ('Milk', 'Amul', 'Dairy', 30, 28.00, '2025-04-01'),\n",
        "    ('Butter', 'Amul', 'Dairy', 20, 45.00, '2025-04-02'),\n",
        "    ('Mango Juice', 'Frooti', 'Beverages', 25, 20.00, '2025-04-01'),\n",
        "    ('Cola', 'Pepsi', 'Beverages', 40, 35.00, '2025-04-03'),\n",
        "    ('Chips', 'Lays', 'Snacks', 50, 20.00, '2025-04-02'),\n",
        "    ('Cookies', 'Parle', 'Bakery', 35, 15.00, '2025-04-03'),\n",
        "    ('Biscuits', 'Britannia', 'Bakery', 40, 18.00, '2025-04-01'),\n",
        "    ('Cheese', 'Amul', 'Dairy', 15, 55.00, '2025-04-04')\n",
        "]\n",
        "\n",
        "cursor.executemany('''\n",
        "    INSERT INTO sales (product, brand, category, quantity, price, sale_date)\n",
        "    VALUES (?, ?, ?, ?, ?, ?)\n",
        "''', sales_data)\n",
        "\n",
        "\n",
        "database_db.commit()\n",
        "database_db.close()\n",
        "\n",
        "print(\"Data inserted successfully into sales table!\")"
      ],
      "metadata": {
        "colab": {
          "base_uri": "https://localhost:8080/"
        },
        "id": "b535zUut8Ilk",
        "outputId": "feb95953-0942-4638-f014-b68c57a29593"
      },
      "execution_count": 21,
      "outputs": [
        {
          "output_type": "stream",
          "name": "stdout",
          "text": [
            "Data inserted successfully into sales table!\n"
          ]
        }
      ]
    },
    {
      "cell_type": "code",
      "source": [
        "database_db = sqlite3.connect(\"sales_data.db\")\n",
        "\n",
        "df = pd.read_sql_query(\"SELECT * FROM sales\", database_db)\n",
        "print(df)\n",
        "database_db.close()"
      ],
      "metadata": {
        "colab": {
          "base_uri": "https://localhost:8080/"
        },
        "id": "nMgTecBDAhxs",
        "outputId": "ed5de17b-d1e3-439b-bbad-c1bdfc16b66b"
      },
      "execution_count": 11,
      "outputs": [
        {
          "output_type": "stream",
          "name": "stdout",
          "text": [
            "   sale_id      product      brand   category  quantity  price   sale_date\n",
            "0        1         Milk       Amul      Dairy        30   28.0  2025-04-01\n",
            "1        2       Butter       Amul      Dairy        20   45.0  2025-04-02\n",
            "2        3  Mango Juice     Frooti  Beverages        25   20.0  2025-04-01\n",
            "3        4         Cola      Pepsi  Beverages        40   35.0  2025-04-03\n",
            "4        5        Chips       Lays     Snacks        50   20.0  2025-04-02\n",
            "5        6      Cookies      Parle     Bakery        35   15.0  2025-04-03\n",
            "6        7     Biscuits  Britannia     Bakery        40   18.0  2025-04-01\n",
            "7        8       Cheese       Amul      Dairy        15   55.0  2025-04-04\n"
          ]
        }
      ]
    },
    {
      "cell_type": "code",
      "source": [
        "import sqlite3\n",
        "import pandas as pd\n",
        "import matplotlib.pyplot as plt\n",
        "\n",
        "# calculate total quantity and total revenue per product\n",
        "\n",
        "database_db = sqlite3.connect(\"sales_data.db\")\n",
        "\n",
        "query = \"\"\"\n",
        "SELECT product, SUM(quantity) AS total_qty, SUM(quantity * price) AS revenue\n",
        "FROM sales\n",
        "GROUP BY product\n",
        "\"\"\"\n",
        "\n",
        "# Run query and load result into pandas DataFrame\n",
        "df = pd.read_sql_query(query, database_db)\n",
        "\n",
        "print(\"Sales Summary:\\n\")\n",
        "print(df)\n",
        "\n",
        "database_db.close()\n"
      ],
      "metadata": {
        "colab": {
          "base_uri": "https://localhost:8080/"
        },
        "id": "LRZoEHe-AsOL",
        "outputId": "6cff0aa5-a633-4084-cc02-d3f9fe8512b2"
      },
      "execution_count": 15,
      "outputs": [
        {
          "output_type": "stream",
          "name": "stdout",
          "text": [
            "Sales Summary:\n",
            "\n",
            "       product  total_qty  revenue\n",
            "0     Biscuits         40    720.0\n",
            "1       Butter         20    900.0\n",
            "2       Cheese         15    825.0\n",
            "3        Chips         50   1000.0\n",
            "4         Cola         40   1400.0\n",
            "5      Cookies         35    525.0\n",
            "6  Mango Juice         25    500.0\n",
            "7         Milk         30    840.0\n"
          ]
        }
      ]
    },
    {
      "cell_type": "code",
      "source": [
        "# create a bar chart of total revenue per product.\n",
        "\n",
        "df.plot(kind='bar',\n",
        "        x='product',\n",
        "        y='revenue',\n",
        "        title='Total Revenue by Product',\n",
        "        color='skyblue')\n",
        "plt.ylabel('Revenue')\n",
        "\n",
        "plt.savefig(\"sales_chart.png\")\n",
        "\n",
        "\n",
        "plt.show()"
      ],
      "metadata": {
        "colab": {
          "base_uri": "https://localhost:8080/",
          "height": 542
        },
        "id": "FO1FDdMtUv5V",
        "outputId": "dcf0b2a1-a3e3-4ebb-ac70-80d46b948dc7"
      },
      "execution_count": 23,
      "outputs": [
        {
          "output_type": "display_data",
          "data": {
            "text/plain": [
              "<Figure size 640x480 with 1 Axes>"
            ],
            "image/png": "[encoded data removed]"
          },
          "metadata": {}
        }
      ]
    },
    {
      "cell_type": "code",
      "source": [
        "database_db = sqlite3.connect(\"sales_data.db\")\n",
        "\n",
        "category = 'Dairy'\n",
        "\n",
        "query_category = f\"\"\"\n",
        "SELECT product, SUM(quantity) AS total_qty, SUM(quantity * price) AS revenue\n",
        "FROM sales\n",
        "WHERE category = '{category}'\n",
        "GROUP BY product;\n",
        "\"\"\"\n",
        "\n",
        "df_category = pd.read_sql_query(query_category, database_db)\n",
        "print(\"sales by Category:\\n\", df_category)\n",
        "\n",
        "df_category.plot(kind='bar', x='product', y='revenue', title=f\"Revenue from {category} Products\")\n",
        "\n",
        "\n",
        "import matplotlib.pyplot as plt\n",
        "plt.ylabel(\"Revenue\")\n",
        "plt.tight_layout()\n",
        "plt.savefig(f\"{category.lower()}_sales_chart.png\")\n",
        "plt.show()\n",
        "\n",
        "database_db.close()"
      ],
      "metadata": {
        "colab": {
          "base_uri": "https://localhost:8080/",
          "height": 574
        },
        "id": "J0DjDlDIgH7Z",
        "outputId": "a62670a4-d617-4939-fabb-39a16367265d"
      },
      "execution_count": 27,
      "outputs": [
        {
          "output_type": "stream",
          "name": "stdout",
          "text": [
            "sales by Category:\n",
            "   product  total_qty  revenue\n",
            "0  Butter         40   1800.0\n",
            "1  Cheese         30   1650.0\n",
            "2    Milk         60   1680.0\n"
          ]
        },
        {
          "output_type": "display_data",
          "data": {
            "text/plain": [
              "<Figure size 640x480 with 1 Axes>"
            ],
            "image/png": "[encoded data removed]"
          },
          "metadata": {}
        }
      ]
    },
    {
      "cell_type": "code",
      "source": [],
      "metadata": {
        "id": "AYk1XYdUgV-M"
      },
      "execution_count": null,
      "outputs": []
    },
    {
      "cell_type": "code",
      "source": [
        "from google.colab import files\n",
        "files.download(\"sales_data.db\")"
      ],
      "metadata": {
        "colab": {
          "base_uri": "https://localhost:8080/",
          "height": 17
        },
        "id": "tXhasd40aaOb",
        "outputId": "17517a86-f5a2-4b6d-9e67-565aa265e81f"
      },
      "execution_count": 22,
      "outputs": [
        {
          "output_type": "display_data",
          "data": {
            "text/plain": [
              "<IPython.core.display.Javascript object>"
            ],
            "application/javascript": [
              "\n",
              "    async function download(id, filename, size) {\n",
              "      if (!google.colab.kernel.accessAllowed) {\n",
              "        return;\n",
              "      }\n",
              "      const div = document.createElement('div');\n",
              "      const label = document.createElement('label');\n",
              "      label.textContent = `Downloading \"${filename}\": `;\n",
              "      div.appendChild(label);\n",
              "      const progress = document.createElement('progress');\n",
              "      progress.max = size;\n",
              "      div.appendChild(progress);\n",
              "      document.body.appendChild(div);\n",
              "\n",
              "      const buffers = [];\n",
              "      let downloaded = 0;\n",
              "\n",
              "      const channel = await google.colab.kernel.comms.open(id);\n",
              "      // Send a message to notify the kernel that we're ready.\n",
              "      channel.send({})\n",
              "\n",
              "      for await (const message of channel.messages) {\n",
              "        // Send a message to notify the kernel that we're ready.\n",
              "        channel.send({})\n",
              "        if (message.buffers) {\n",
              "          for (const buffer of message.buffers) {\n",
              "            buffers.push(buffer);\n",
              "            downloaded += buffer.byteLength;\n",
              "            progress.value = downloaded;\n",
              "          }\n",
              "        }\n",
              "      }\n",
              "      const blob = new Blob(buffers, {type: 'application/binary'});\n",
              "      const a = document.createElement('a');\n",
              "      a.href = window.URL.createObjectURL(blob);\n",
              "      a.download = filename;\n",
              "      div.appendChild(a);\n",
              "      a.click();\n",
              "      div.remove();\n",
              "    }\n",
              "  "
            ]
          },
          "metadata": {}
        },
        {
          "output_type": "display_data",
          "data": {
            "text/plain": [
              "<IPython.core.display.Javascript object>"
            ],
            "application/javascript": [
              "download(\"download_8412ef02-7e19-4b7d-9f13-805a808b30d5\", \"sales_data.db\", 12288)"
            ]
          },
          "metadata": {}
        }
      ]
    }
  ]
}